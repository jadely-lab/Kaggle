{
 "cells": [
  {
   "cell_type": "code",
   "execution_count": 1,
   "metadata": {
    "_cell_guid": "b1076dfc-b9ad-4769-8c92-a6c4dae69d19",
    "_uuid": "8f2839f25d086af736a60e9eeb907d3b93b6e0e5",
    "execution": {
     "iopub.execute_input": "2021-11-24T11:46:50.231144Z",
     "iopub.status.busy": "2021-11-24T11:46:50.230649Z",
     "iopub.status.idle": "2021-11-24T11:46:51.289099Z",
     "shell.execute_reply": "2021-11-24T11:46:51.287624Z",
     "shell.execute_reply.started": "2021-11-24T11:46:50.231053Z"
    }
   },
   "outputs": [],
   "source": [
    "import numpy as np\n",
    "import pandas as pd\n",
    "import matplotlib.pyplot as plt\n",
    "import seaborn as sns\n",
    "color = sns.color_palette()\n",
    "\n",
    "%matplotlib inline\n",
    "\n",
    "pd.options.mode.chained_assignment = None\n",
    "pd.options.display.max_columns = 999"
   ]
  },
  {
   "cell_type": "code",
   "execution_count": 2,
   "metadata": {
    "execution": {
     "iopub.execute_input": "2021-11-24T11:46:51.292236Z",
     "iopub.status.busy": "2021-11-24T11:46:51.291832Z",
     "iopub.status.idle": "2021-11-24T11:46:51.318001Z",
     "shell.execute_reply": "2021-11-24T11:46:51.316163Z",
     "shell.execute_reply.started": "2021-11-24T11:46:51.292185Z"
    }
   },
   "outputs": [],
   "source": [
    "from subprocess import check_output\n",
    "print(check_output([\"ls\",\"../input\"]).decode(\"utf8\"))"
   ]
  },
  {
   "cell_type": "code",
   "execution_count": 3,
   "metadata": {
    "execution": {
     "iopub.execute_input": "2021-11-24T11:46:51.323799Z",
     "iopub.status.busy": "2021-11-24T11:46:51.321893Z",
     "iopub.status.idle": "2021-11-24T11:46:51.461171Z",
     "shell.execute_reply": "2021-11-24T11:46:51.459712Z",
     "shell.execute_reply.started": "2021-11-24T11:46:51.323737Z"
    }
   },
   "outputs": [],
   "source": [
    "train_df = pd.read_csv(\"../input/zillow-prize-1/train_2017.csv\", parse_dates = [\"transactiondate\"])\n",
    "train_df.shape"
   ]
  },
  {
   "cell_type": "code",
   "execution_count": 4,
   "metadata": {
    "execution": {
     "iopub.execute_input": "2021-11-24T11:46:51.463798Z",
     "iopub.status.busy": "2021-11-24T11:46:51.463448Z",
     "iopub.status.idle": "2021-11-24T11:46:51.493099Z",
     "shell.execute_reply": "2021-11-24T11:46:51.492156Z",
     "shell.execute_reply.started": "2021-11-24T11:46:51.463757Z"
    }
   },
   "outputs": [],
   "source": [
    "train_df.head()"
   ]
  },
  {
   "cell_type": "code",
   "execution_count": 5,
   "metadata": {
    "execution": {
     "iopub.execute_input": "2021-11-24T11:46:51.497038Z",
     "iopub.status.busy": "2021-11-24T11:46:51.496109Z",
     "iopub.status.idle": "2021-11-24T11:46:51.932468Z",
     "shell.execute_reply": "2021-11-24T11:46:51.931030Z",
     "shell.execute_reply.started": "2021-11-24T11:46:51.496985Z"
    }
   },
   "outputs": [],
   "source": [
    "plt.figure(figsize = (8,6))\n",
    "plt.scatter(range(train_df.shape[0]), np.sort(train_df.logerror.values))\n",
    "plt.xlabel('index', fontsize = 12)\n",
    "plt.ylabel('logerror', fontsize = 12)\n",
    "plt.show()"
   ]
  },
  {
   "cell_type": "code",
   "execution_count": 6,
   "metadata": {
    "execution": {
     "iopub.execute_input": "2021-11-24T11:46:51.935486Z",
     "iopub.status.busy": "2021-11-24T11:46:51.934742Z",
     "iopub.status.idle": "2021-11-24T11:46:52.365201Z",
     "shell.execute_reply": "2021-11-24T11:46:52.364430Z",
     "shell.execute_reply.started": "2021-11-24T11:46:51.935432Z"
    }
   },
   "outputs": [],
   "source": [
    "ulimit = np.percentile(train_df.logerror.values, 99)\n",
    "llimit = np.percentile(train_df.logerror.values, 1)\n",
    "train_df['logerror'].loc[train_df['logerror']>ulimit] = ulimit\n",
    "train_df['logerror'].loc[train_df['logerror']<llimit] = llimit\n",
    "\n",
    "plt.figure(figsize = (12,8))\n",
    "sns.distplot(train_df.logerror.values, bins = 50, kde = False)\n",
    "plt.xlabel('logerror', fontsize = 12)\n",
    "plt.show()"
   ]
  },
  {
   "cell_type": "markdown",
   "metadata": {},
   "source": [
    "__[Error Solve]__  \n",
    "__'Series' object has no attribute 'ix'__ @ line3  \n",
    "ix 함수가 사라지고 .loc , .iloc로 대체되었다고 한다.  \n",
    "따라서 .ix를 .loc로 대체하였더니 에러가 해결되었다."
   ]
  },
  {
   "cell_type": "code",
   "execution_count": 7,
   "metadata": {
    "execution": {
     "iopub.execute_input": "2021-11-24T11:46:52.368170Z",
     "iopub.status.busy": "2021-11-24T11:46:52.367370Z",
     "iopub.status.idle": "2021-11-24T11:46:52.620045Z",
     "shell.execute_reply": "2021-11-24T11:46:52.619065Z",
     "shell.execute_reply.started": "2021-11-24T11:46:52.368100Z"
    }
   },
   "outputs": [],
   "source": [
    "train_df['transaction_month'] = train_df['transactiondate'].dt.month\n",
    "\n",
    "cnt_srs = train_df['transaction_month'].value_counts()\n",
    "plt.figure(figsize = (12,6))\n",
    "sns.barplot(cnt_srs.index, cnt_srs.values, alpha = 0.8, color = color[3])\n",
    "plt.xticks(rotation = 'vertical')\n",
    "plt.xlabel('Month of transaction', fontsize = 12)\n",
    "plt.ylabel('Number of Occurances', fontsize = 12)\n",
    "plt.show()"
   ]
  },
  {
   "cell_type": "code",
   "execution_count": 8,
   "metadata": {
    "execution": {
     "iopub.execute_input": "2021-11-24T11:46:52.621840Z",
     "iopub.status.busy": "2021-11-24T11:46:52.621600Z",
     "iopub.status.idle": "2021-11-24T11:46:52.640974Z",
     "shell.execute_reply": "2021-11-24T11:46:52.640138Z",
     "shell.execute_reply.started": "2021-11-24T11:46:52.621813Z"
    }
   },
   "outputs": [],
   "source": [
    "(train_df['parcelid'].value_counts().reset_index())['parcelid'].value_counts()"
   ]
  },
  {
   "cell_type": "code",
   "execution_count": 9,
   "metadata": {
    "execution": {
     "iopub.execute_input": "2021-11-24T11:46:52.642361Z",
     "iopub.status.busy": "2021-11-24T11:46:52.642136Z",
     "iopub.status.idle": "2021-11-24T11:47:12.280366Z",
     "shell.execute_reply": "2021-11-24T11:47:12.279394Z",
     "shell.execute_reply.started": "2021-11-24T11:46:52.642334Z"
    }
   },
   "outputs": [],
   "source": [
    "prop_df = pd.read_csv(\"../input/zillow-prize-1/properties_2017.csv\")\n",
    "prop_df.shape"
   ]
  },
  {
   "cell_type": "code",
   "execution_count": 10,
   "metadata": {
    "execution": {
     "iopub.execute_input": "2021-11-24T11:47:12.283250Z",
     "iopub.status.busy": "2021-11-24T11:47:12.282890Z",
     "iopub.status.idle": "2021-11-24T11:47:12.336911Z",
     "shell.execute_reply": "2021-11-24T11:47:12.335931Z",
     "shell.execute_reply.started": "2021-11-24T11:47:12.283212Z"
    }
   },
   "outputs": [],
   "source": [
    "prop_df.head()"
   ]
  },
  {
   "cell_type": "code",
   "execution_count": 11,
   "metadata": {
    "execution": {
     "iopub.execute_input": "2021-11-24T11:47:12.338363Z",
     "iopub.status.busy": "2021-11-24T11:47:12.338131Z",
     "iopub.status.idle": "2021-11-24T11:47:14.365473Z",
     "shell.execute_reply": "2021-11-24T11:47:14.364748Z",
     "shell.execute_reply.started": "2021-11-24T11:47:12.338334Z"
    }
   },
   "outputs": [],
   "source": [
    "missing_df = prop_df.isnull().sum(axis = 0).reset_index()\n",
    "missing_df.columns = ['column_name', 'missing_count']\n",
    "missing_df = missing_df.loc[missing_df['missing_count']>0]\n",
    "missing_df = missing_df.sort_values(by = 'missing_count')\n",
    "\n",
    "ind = np.arange(missing_df.shape[0])\n",
    "width = 0.0\n",
    "fig, ax = plt.subplots(figsize = (12,18))\n",
    "rects = ax.barh(ind, missing_df.missing_count.values, color = 'blue')\n",
    "ax.set_yticks(ind)\n",
    "ax.set_yticklabels(missing_df.column_name.values, rotation = 'horizontal')\n",
    "ax.set_xlabel(\"Count of missing values\")\n",
    "ax.set_title(\"Number of missing values in each column\")\n",
    "plt.show()"
   ]
  },
  {
   "cell_type": "code",
   "execution_count": 12,
   "metadata": {
    "execution": {
     "iopub.execute_input": "2021-11-24T11:47:14.366972Z",
     "iopub.status.busy": "2021-11-24T11:47:14.366638Z",
     "iopub.status.idle": "2021-11-24T11:47:22.889793Z",
     "shell.execute_reply": "2021-11-24T11:47:22.888738Z",
     "shell.execute_reply.started": "2021-11-24T11:47:14.366944Z"
    }
   },
   "outputs": [],
   "source": [
    "plt.figure(figsize = (12,12))\n",
    "sns.jointplot(x=prop_df.latitude.values, y=prop_df.longitude.values, size = 10)\n",
    "plt.ylabel('Longitude', fontsize = 12)\n",
    "plt.xlabel('Latitude', fontsize = 12)\n",
    "plt.show()"
   ]
  },
  {
   "cell_type": "code",
   "execution_count": 13,
   "metadata": {
    "execution": {
     "iopub.execute_input": "2021-11-24T11:47:22.891754Z",
     "iopub.status.busy": "2021-11-24T11:47:22.891278Z",
     "iopub.status.idle": "2021-11-24T11:47:25.412910Z",
     "shell.execute_reply": "2021-11-24T11:47:25.411978Z",
     "shell.execute_reply.started": "2021-11-24T11:47:22.891714Z"
    }
   },
   "outputs": [],
   "source": [
    "train_df = pd.merge(train_df, prop_df, on='parcelid', how = 'left')\n",
    "train_df.head()"
   ]
  },
  {
   "cell_type": "code",
   "execution_count": 14,
   "metadata": {
    "execution": {
     "iopub.execute_input": "2021-11-24T11:47:25.414836Z",
     "iopub.status.busy": "2021-11-24T11:47:25.414536Z",
     "iopub.status.idle": "2021-11-24T11:47:25.433793Z",
     "shell.execute_reply": "2021-11-24T11:47:25.432551Z",
     "shell.execute_reply.started": "2021-11-24T11:47:25.414805Z"
    }
   },
   "outputs": [],
   "source": [
    "pd.options.display.max_rows = 65\n",
    "\n",
    "dtype_df = train_df.dtypes.reset_index()\n",
    "dtype_df.columns = [\"Count\", \"Column Type\"]\n",
    "dtype_df"
   ]
  },
  {
   "cell_type": "code",
   "execution_count": 15,
   "metadata": {
    "execution": {
     "iopub.execute_input": "2021-11-24T11:47:25.435864Z",
     "iopub.status.busy": "2021-11-24T11:47:25.435218Z",
     "iopub.status.idle": "2021-11-24T11:47:25.447917Z",
     "shell.execute_reply": "2021-11-24T11:47:25.447304Z",
     "shell.execute_reply.started": "2021-11-24T11:47:25.435826Z"
    }
   },
   "outputs": [],
   "source": [
    "dtype_df.groupby(\"Column Type\").aggregate('count').reset_index()"
   ]
  },
  {
   "cell_type": "code",
   "execution_count": 16,
   "metadata": {
    "execution": {
     "iopub.execute_input": "2021-11-24T11:47:25.449483Z",
     "iopub.status.busy": "2021-11-24T11:47:25.449104Z",
     "iopub.status.idle": "2021-11-24T11:47:25.505639Z",
     "shell.execute_reply": "2021-11-24T11:47:25.504618Z",
     "shell.execute_reply.started": "2021-11-24T11:47:25.449441Z"
    }
   },
   "outputs": [],
   "source": [
    "missing_df = train_df.isnull().sum(axis = 0).reset_index()\n",
    "missing_df.columns = ['column_name', 'missing_count']\n",
    "missing_df['missing_ratio'] = missing_df['missing_count']/train_df.shape[0]\n",
    "missing_df.loc[missing_df['missing_ratio']>0.999]"
   ]
  },
  {
   "cell_type": "code",
   "execution_count": 17,
   "metadata": {
    "execution": {
     "iopub.execute_input": "2021-11-24T11:47:25.507067Z",
     "iopub.status.busy": "2021-11-24T11:47:25.506827Z",
     "iopub.status.idle": "2021-11-24T11:47:26.835707Z",
     "shell.execute_reply": "2021-11-24T11:47:26.834813Z",
     "shell.execute_reply.started": "2021-11-24T11:47:25.507038Z"
    }
   },
   "outputs": [],
   "source": [
    "# Let us just impute the missing values with mean values to compute correlation coefficients\n",
    "\n",
    "mean_values = train_df.mean(axis = 0)\n",
    "train_df_new = train_df.fillna(mean_values)\n",
    "\n",
    "# Now let us look at the correlation coefficient of each of these variables\n",
    "\n",
    "x_cols = [col for col in train_df_new.columns if col not in ['logerror'] if train_df_new[col].dtypes == 'float64']\n",
    "\n",
    "labels = []\n",
    "values = []\n",
    "\n",
    "for col in x_cols:\n",
    "    labels.append(col)\n",
    "    values.append(np.corrcoef(train_df_new[col].values, train_df_new.logerror.values)[0,1]) \n",
    "corr_df = pd.DataFrame({'col_labels': labels, 'corr_values':values})\n",
    "corr_df = corr_df.sort_values(by='corr_values')\n",
    "\n",
    "ind = np.arange(len(labels))\n",
    "width = 0.9\n",
    "fig, ax = plt.subplots(figsize = (12, 40))\n",
    "rects = ax.barh(ind, np.array(corr_df.corr_values.values), color = 'y')\n",
    "ax.set_yticks(ind)\n",
    "ax.set_yticklabels(corr_df.col_labels.values, rotation = 'horizontal')\n",
    "ax.set_xlabel(\"Correlation coefficient\")\n",
    "ax.set_title(\"Correlation coefficient of the variables\")\n",
    "\n",
    "# autolabel (rects)\n",
    "\n",
    "plt.show()"
   ]
  },
  {
   "cell_type": "code",
   "execution_count": 18,
   "metadata": {
    "execution": {
     "iopub.execute_input": "2021-11-24T11:47:26.837460Z",
     "iopub.status.busy": "2021-11-24T11:47:26.837208Z",
     "iopub.status.idle": "2021-11-24T11:47:26.851598Z",
     "shell.execute_reply": "2021-11-24T11:47:26.850603Z",
     "shell.execute_reply.started": "2021-11-24T11:47:26.837427Z"
    }
   },
   "outputs": [],
   "source": [
    "corr_zero_cols = ['assessmentyear', 'storytypeid', 'pooltypeid2', 'pooltypeid7', 'pooltypeid10', 'poolcnt', 'decktypeid', 'buildingclasstypeid']\n",
    "for col in corr_zero_cols:\n",
    "    print(col, len(train_df_new[col].unique()))"
   ]
  },
  {
   "cell_type": "code",
   "execution_count": 19,
   "metadata": {
    "execution": {
     "iopub.execute_input": "2021-11-24T11:47:26.853009Z",
     "iopub.status.busy": "2021-11-24T11:47:26.852782Z",
     "iopub.status.idle": "2021-11-24T11:47:26.867170Z",
     "shell.execute_reply": "2021-11-24T11:47:26.866105Z",
     "shell.execute_reply.started": "2021-11-24T11:47:26.852981Z"
    }
   },
   "outputs": [],
   "source": [
    "corr_df_sel = corr_df.loc[(corr_df['corr_values'] > 0.02) | (corr_df['corr_values'] < -0.01)]\n",
    "corr_df_sel"
   ]
  },
  {
   "cell_type": "code",
   "execution_count": 20,
   "metadata": {
    "execution": {
     "iopub.execute_input": "2021-11-24T11:47:26.868977Z",
     "iopub.status.busy": "2021-11-24T11:47:26.868371Z",
     "iopub.status.idle": "2021-11-24T11:47:27.721352Z",
     "shell.execute_reply": "2021-11-24T11:47:27.720382Z",
     "shell.execute_reply.started": "2021-11-24T11:47:26.868929Z"
    }
   },
   "outputs": [],
   "source": [
    "cols_to_use = corr_df_sel.col_labels.tolist()\n",
    "\n",
    "temp_df = train_df[cols_to_use]\n",
    "corrmat = temp_df.corr(method = 'spearman')\n",
    "f, ax = plt.subplots(figsize = (8,8))\n",
    "\n",
    "# Draw the heatmap using seaborn\n",
    "sns.heatmap(corrmat, vmax = 1., square = True)\n",
    "plt.title(\"Important variables correlation map\", fontsize = 15)\n",
    "plt.show()"
   ]
  },
  {
   "cell_type": "code",
   "execution_count": 21,
   "metadata": {
    "execution": {
     "iopub.execute_input": "2021-11-24T11:47:27.723061Z",
     "iopub.status.busy": "2021-11-24T11:47:27.722702Z",
     "iopub.status.idle": "2021-11-24T11:47:29.733161Z",
     "shell.execute_reply": "2021-11-24T11:47:29.732272Z",
     "shell.execute_reply.started": "2021-11-24T11:47:27.723029Z"
    }
   },
   "outputs": [],
   "source": [
    "col = \"finishedsquarefeet12\"\n",
    "ulimit = np.percentile(train_df[col].values, 99.5)\n",
    "limit = np.percentile(train_df[col].values, 0.5)\n",
    "train_df[col].loc[train_df[col] > ulimit] = ulimit\n",
    "train_df[col].loc[train_df[col] < llimit] = llimit\n",
    "\n",
    "plt.figure(figsize = (12,12))\n",
    "sns.jointplot(x = train_df.finishedsquarefeet12.values, y = train_df.logerror.values, size = 10, color = color[4])\n",
    "plt.ylabel('Log Error', fontsize = 12)\n",
    "plt.xlabel('Finished Square Feet 12', fontsize = 12)\n",
    "plt.title(\"Finished square feet 12 Vs Log error\", fontsize = 15)\n",
    "plt.show()"
   ]
  },
  {
   "cell_type": "code",
   "execution_count": 22,
   "metadata": {
    "execution": {
     "iopub.execute_input": "2021-11-24T11:47:29.734966Z",
     "iopub.status.busy": "2021-11-24T11:47:29.734401Z",
     "iopub.status.idle": "2021-11-24T11:47:32.476276Z",
     "shell.execute_reply": "2021-11-24T11:47:32.475301Z",
     "shell.execute_reply.started": "2021-11-24T11:47:29.734926Z"
    }
   },
   "outputs": [],
   "source": [
    "col = \"calculatedfinishedsquarefeet\"\n",
    "ulimit = np.percentile(train_df[col].values, 99.5)\n",
    "llimit = np.percentile(train_df[col].values, 0.5)\n",
    "train_df[col].loc[train_df[col] > ulimit] = ulimit\n",
    "train_df[col].loc[train_df[col] < llimit] = llimit\n",
    "\n",
    "plt.figure(figsize = (12, 12))\n",
    "sns.jointplot(x = train_df.calculatedfinishedsquarefeet.values, y = train_df.logerror.values, size = 10, color = color[5])\n",
    "plt.ylabel('Log Error', fontsize = 12)\n",
    "plt.xlabel('Calculated finished square feet', fontsize = 12)\n",
    "plt.title(\"Calculated finished square feet Vs Log error\", fontsize = 15)\n",
    "plt.show()"
   ]
  },
  {
   "cell_type": "code",
   "execution_count": 23,
   "metadata": {
    "execution": {
     "iopub.execute_input": "2021-11-24T11:47:32.477849Z",
     "iopub.status.busy": "2021-11-24T11:47:32.477598Z",
     "iopub.status.idle": "2021-11-24T11:47:32.959234Z",
     "shell.execute_reply": "2021-11-24T11:47:32.958580Z",
     "shell.execute_reply.started": "2021-11-24T11:47:32.477818Z"
    }
   },
   "outputs": [],
   "source": [
    "plt.figure(figsize = (12,8))\n",
    "sns.countplot(x = \"bathroomcnt\", data = train_df)\n",
    "plt.ylabel('Count', fontsize = 12)\n",
    "plt.xlabel('Bathroom', fontsize = 12)\n",
    "plt.xticks(rotation = 'vertical')\n",
    "plt.title(\"Frequency of Bathroom count\", fontsize = 15)\n",
    "plt.show()"
   ]
  },
  {
   "cell_type": "code",
   "execution_count": 24,
   "metadata": {
    "execution": {
     "iopub.execute_input": "2021-11-24T11:47:32.960977Z",
     "iopub.status.busy": "2021-11-24T11:47:32.960178Z",
     "iopub.status.idle": "2021-11-24T11:47:33.520344Z",
     "shell.execute_reply": "2021-11-24T11:47:33.519362Z",
     "shell.execute_reply.started": "2021-11-24T11:47:32.960938Z"
    }
   },
   "outputs": [],
   "source": [
    "plt.figure(figsize = (12,8))\n",
    "sns.boxplot(x = \"bathroomcnt\", y = \"logerror\", data = train_df)\n",
    "plt.ylabel('Log error', fontsize = 12)\n",
    "plt.xlabel('Bathroom Count', fontsize = 12)\n",
    "plt.xticks(rotation = 'vertical')\n",
    "plt.title(\"How log error changes with bathroom count?\", fontsize = 15)\n",
    "plt.show()"
   ]
  },
  {
   "cell_type": "code",
   "execution_count": 25,
   "metadata": {
    "execution": {
     "iopub.execute_input": "2021-11-24T11:47:33.521895Z",
     "iopub.status.busy": "2021-11-24T11:47:33.521658Z",
     "iopub.status.idle": "2021-11-24T11:47:33.813556Z",
     "shell.execute_reply": "2021-11-24T11:47:33.812586Z",
     "shell.execute_reply.started": "2021-11-24T11:47:33.521868Z"
    }
   },
   "outputs": [],
   "source": [
    "plt.figure(figsize = (12,8))\n",
    "sns.countplot(x = \"bedroomcnt\", data = train_df)\n",
    "plt.ylabel('Frequency', fontsize = 12)\n",
    "plt.xlabel('Bedroom Count', fontsize = 12)\n",
    "plt.xticks(rotation = 'vertical')\n",
    "plt.title(\"Frequency of Bedroom count\", fontsize = 15)\n",
    "plt.show()"
   ]
  },
  {
   "cell_type": "code",
   "execution_count": 26,
   "metadata": {
    "execution": {
     "iopub.execute_input": "2021-11-24T11:47:33.815370Z",
     "iopub.status.busy": "2021-11-24T11:47:33.815070Z",
     "iopub.status.idle": "2021-11-24T11:47:34.579776Z",
     "shell.execute_reply": "2021-11-24T11:47:34.578828Z",
     "shell.execute_reply.started": "2021-11-24T11:47:33.815330Z"
    }
   },
   "outputs": [],
   "source": [
    "train_df['bedroomcnt'].loc[train_df['bedroomcnt']>7] = 7\n",
    "plt.figure(figsize = (12,8))\n",
    "sns.violinplot(x = 'bedroomcnt', y = 'logerror', data = train_df)\n",
    "plt.xlabel('Bedroom count', fontsize = 12)\n",
    "plt.ylabel('Log Error', fontsize = 12)\n",
    "plt.show()"
   ]
  },
  {
   "cell_type": "code",
   "execution_count": 27,
   "metadata": {
    "execution": {
     "iopub.execute_input": "2021-11-24T11:47:34.581704Z",
     "iopub.status.busy": "2021-11-24T11:47:34.581351Z",
     "iopub.status.idle": "2021-11-24T11:47:40.838629Z",
     "shell.execute_reply": "2021-11-24T11:47:40.837588Z",
     "shell.execute_reply.started": "2021-11-24T11:47:34.581658Z"
    }
   },
   "outputs": [],
   "source": [
    "col = \"taxamount\"\n",
    "ulimit = np.percentile(train_df[col].values, 99.5)\n",
    "llimit = np.percentile(train_df[col].values, 0.5)\n",
    "train_df[col].loc[train_df[col] > ulimit] = ulimit\n",
    "train_df[col].loc[train_df[col] < llimit] = llimit\n",
    "\n",
    "plt.figure(figsize = (12, 12))\n",
    "sns.jointplot(x = train_df['taxamount'].values, y = train_df['logerror'].values, size = 10, color = 'g')\n",
    "plt.ylabel('Log Error', fontsize = 12)\n",
    "plt.xlabel('Tax Amount', fontsize = 12)\n",
    "plt.title(\"Tax Amount Vs Log Error\", fontsize = 15)\n",
    "plt.show()"
   ]
  },
  {
   "cell_type": "code",
   "execution_count": 28,
   "metadata": {
    "execution": {
     "iopub.execute_input": "2021-11-24T11:47:40.844142Z",
     "iopub.status.busy": "2021-11-24T11:47:40.843303Z",
     "iopub.status.idle": "2021-11-24T11:47:46.947204Z",
     "shell.execute_reply": "2021-11-24T11:47:46.946536Z",
     "shell.execute_reply.started": "2021-11-24T11:47:40.844089Z"
    }
   },
   "outputs": [],
   "source": [
    "from ggplot import *\n",
    "ggplot(aes(x = 'yearbuilt', y = 'logerror'), data = train_df) + geom_point(color = 'steelblue', size = 1) + stat_smooth()"
   ]
  },
  {
   "cell_type": "code",
   "execution_count": 29,
   "metadata": {
    "execution": {
     "iopub.execute_input": "2021-11-24T11:47:46.948944Z",
     "iopub.status.busy": "2021-11-24T11:47:46.948467Z",
     "iopub.status.idle": "2021-11-24T11:47:47.697062Z",
     "shell.execute_reply": "2021-11-24T11:47:47.696402Z",
     "shell.execute_reply.started": "2021-11-24T11:47:46.948911Z"
    }
   },
   "outputs": [],
   "source": [
    "ggplot(aes(x = 'latitude', y = 'longitude', color = 'logerror'), data = train_df) + geom_point() + scale_color_gradient(low = 'red', high = 'blue')"
   ]
  },
  {
   "cell_type": "code",
   "execution_count": 30,
   "metadata": {
    "execution": {
     "iopub.execute_input": "2021-11-24T11:47:47.698667Z",
     "iopub.status.busy": "2021-11-24T11:47:47.698222Z",
     "iopub.status.idle": "2021-11-24T11:47:48.386401Z",
     "shell.execute_reply": "2021-11-24T11:47:48.385574Z",
     "shell.execute_reply.started": "2021-11-24T11:47:47.698629Z"
    }
   },
   "outputs": [],
   "source": [
    "ggplot(aes(x = 'finishedsquarefeet12', y = 'taxamount', color = 'logerror'), data = train_df) + geom_point(alpha = 0.7) + scale_color_gradient(low = 'pink', high = 'blue')"
   ]
  },
  {
   "cell_type": "code",
   "execution_count": 31,
   "metadata": {
    "execution": {
     "iopub.execute_input": "2021-11-24T11:47:48.388217Z",
     "iopub.status.busy": "2021-11-24T11:47:48.387946Z",
     "iopub.status.idle": "2021-11-24T11:47:48.845591Z",
     "shell.execute_reply": "2021-11-24T11:47:48.844937Z",
     "shell.execute_reply.started": "2021-11-24T11:47:48.388185Z"
    }
   },
   "outputs": [],
   "source": [
    "ggplot(aes(x = 'finishedsquarefeet12', y = 'taxamount', color = 'logerror'), data = train_df) + geom_now_its_art()"
   ]
  },
  {
   "cell_type": "code",
   "execution_count": 32,
   "metadata": {
    "execution": {
     "iopub.execute_input": "2021-11-24T11:47:48.847365Z",
     "iopub.status.busy": "2021-11-24T11:47:48.846935Z",
     "iopub.status.idle": "2021-11-24T11:47:49.346708Z",
     "shell.execute_reply": "2021-11-24T11:47:49.345326Z",
     "shell.execute_reply.started": "2021-11-24T11:47:48.847321Z"
    }
   },
   "outputs": [],
   "source": [
    "train_y = train_df['logerror'].values\n",
    "cat_cols = [\"hashottuborspa\", \"propertycountylandusecode\", \"propertyzoningdesc\", \"fireplaceflag\", \"taxdelinquencyflag\"]\n",
    "train_df = train_df.drop(['parcelid', 'logerror', 'transactiondate', 'transaction_month']+cat_cols, axis = 1)\n",
    "feat_names = train_df.columns.values\n",
    "\n",
    "from sklearn import ensemble\n",
    "model = ensemble.ExtraTreesRegressor(n_estimators = 25, max_depth = 30, max_features = 0.3, n_jobs = -1, random_state = 0)\n",
    "model.fit(train_df, train_y)\n",
    "\n",
    "# plot the importances\n",
    "importances = model.feature_importances_\n",
    "std = np.std([tree.feature_importances_ for tree in model.estimators_], axis = 0)\n",
    "indices = np.argsort(importances)[::-1][:20]\n",
    "\n",
    "plt.figure(figsize = (12,12))\n",
    "plt.title(\"Feature importances\")\n",
    "plt.bar(range(len(indices)), importances[indices], color = \"r\", yerr = std[indices], align = \"center\")\n",
    "plt.xticks(range(len(indices)), feat_names[indices], rotation = 'vertical')\n",
    "plt.xlim([-1, len(indices)])\n",
    "plt.show()"
   ]
  },
  {
   "cell_type": "code",
   "execution_count": 33,
   "metadata": {
    "execution": {
     "iopub.execute_input": "2021-11-24T11:48:10.097911Z",
     "iopub.status.busy": "2021-11-24T11:48:10.097622Z",
     "iopub.status.idle": "2021-11-24T11:48:20.234260Z",
     "shell.execute_reply": "2021-11-24T11:48:20.233459Z",
     "shell.execute_reply.started": "2021-11-24T11:48:10.097879Z"
    }
   },
   "outputs": [],
   "source": [
    "import xgboost as xgb\n",
    "xgb_params = {\n",
    "    'eta' : 0.05,\n",
    "    'max_depth' : 8,\n",
    "    'subsample' : 0.7,\n",
    "    'colsample_bytree' : 0.7,\n",
    "    'objective' : 'reg:linear',\n",
    "    'silent' : 1,\n",
    "    'seed' : 0\n",
    "}\n",
    "dtrain = xgb.DMatrix(train_df, train_y, feature_names = train_df.columns.values)\n",
    "model = xgb.train(dict(xgb_params, silent = 0), dtrain, num_boost_round = 50)\n",
    "\n",
    "# plot the important features\n",
    "fig, ax = plt.subplots(figsize = (12, 18))\n",
    "xgb.plot_importance(model, max_num_features = 50, height = 0.8, ax = ax)\n",
    "plt.show()"
   ]
  },
  {
   "cell_type": "code",
   "execution_count": null,
   "metadata": {},
   "outputs": [],
   "source": []
  }
 ],
 "metadata": {
  "kernelspec": {
   "display_name": "Python 3",
   "language": "python",
   "name": "python3"
  },
  "language_info": {
   "codemirror_mode": {
    "name": "ipython",
    "version": 3
   },
   "file_extension": ".py",
   "mimetype": "text/x-python",
   "name": "python",
   "nbconvert_exporter": "python",
   "pygments_lexer": "ipython3",
   "version": "3.8.8"
  }
 },
 "nbformat": 4,
 "nbformat_minor": 4
}
